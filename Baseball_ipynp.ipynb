{
  "nbformat": 4,
  "nbformat_minor": 0,
  "metadata": {
    "colab": {
      "name": "Baseball.ipynp",
      "provenance": [],
      "authorship_tag": "ABX9TyMpuuXF50Yg/YXWqAC8JRdj",
      "include_colab_link": true
    },
    "kernelspec": {
      "name": "python3",
      "display_name": "Python 3"
    }
  },
  "cells": [
    {
      "cell_type": "markdown",
      "metadata": {
        "id": "view-in-github",
        "colab_type": "text"
      },
      "source": [
        "<a href=\"https://colab.research.google.com/github/eunho792/BIGDATA/blob/master/Baseball_ipynp.ipynb\" target=\"_parent\"><img src=\"https://colab.research.google.com/assets/colab-badge.svg\" alt=\"Open In Colab\"/></a>"
      ]
    },
    {
      "cell_type": "code",
      "metadata": {
        "id": "rjOUN9KwfA5G",
        "outputId": "020ee810-58bd-49c6-a9e1-56892d7016c8",
        "colab": {
          "base_uri": "https://localhost:8080/",
          "height": 89
        }
      },
      "source": [
        "import pandas as pd\n",
        "import numpy as np\n",
        "import matplotlib.pyplot as plt\n",
        "\n",
        "\n",
        "picher = pd.read_csv('picher_stats_2017.csv')\n",
        "batter = pd.read_csv('batter_stats_2017.csv')\n",
        "picher.columns"
      ],
      "execution_count": null,
      "outputs": [
        {
          "output_type": "execute_result",
          "data": {
            "text/plain": [
              "Index(['선수명', '팀명', '승', '패', '세', '홀드', '블론', '경기', '선발', '이닝', '삼진/9',\n",
              "       '볼넷/9', '홈런/9', 'BABIP', 'LOB%', 'ERA', 'RA9-WAR', 'FIP', 'kFIP', 'WAR',\n",
              "       '연봉(2018)', '연봉(2017)'],\n",
              "      dtype='object')"
            ]
          },
          "metadata": {
            "tags": []
          },
          "execution_count": 3
        }
      ]
    },
    {
      "cell_type": "code",
      "metadata": {
        "id": "xnkdKWlch9Bu",
        "outputId": "f61500d4-bd38-49f2-e2b1-585bb657ae03",
        "colab": {
          "base_uri": "https://localhost:8080/",
          "height": 197
        }
      },
      "source": [
        "batter.columns\n",
        "print(picher.shape)\n",
        "\n",
        "picher['연봉(2017)'].describe()"
      ],
      "execution_count": null,
      "outputs": [
        {
          "output_type": "stream",
          "text": [
            "(152, 22)\n"
          ],
          "name": "stdout"
        },
        {
          "output_type": "execute_result",
          "data": {
            "text/plain": [
              "count       152.000000\n",
              "mean      16505.263158\n",
              "std       25046.478092\n",
              "min        2700.000000\n",
              "25%        3000.000000\n",
              "50%        6000.000000\n",
              "75%       15250.000000\n",
              "max      150000.000000\n",
              "Name: 연봉(2017), dtype: float64"
            ]
          },
          "metadata": {
            "tags": []
          },
          "execution_count": 4
        }
      ]
    },
    {
      "cell_type": "code",
      "metadata": {
        "id": "FH3CeiXci9rB",
        "outputId": "0acf598e-6025-4dd8-8733-8afe1c34b0af",
        "colab": {
          "base_uri": "https://localhost:8080/",
          "height": 429
        }
      },
      "source": [
        "picher.boxplot(column=['연봉(2018)'])"
      ],
      "execution_count": null,
      "outputs": [
        {
          "output_type": "execute_result",
          "data": {
            "text/plain": [
              "<matplotlib.axes._subplots.AxesSubplot at 0x7f6080ff1940>"
            ]
          },
          "metadata": {
            "tags": []
          },
          "execution_count": 5
        },
        {
          "output_type": "stream",
          "text": [
            "/usr/local/lib/python3.6/dist-packages/matplotlib/backends/backend_agg.py:214: RuntimeWarning: Glyph 50672 missing from current font.\n",
            "  font.set_text(s, 0.0, flags=flags)\n",
            "/usr/local/lib/python3.6/dist-packages/matplotlib/backends/backend_agg.py:214: RuntimeWarning: Glyph 48393 missing from current font.\n",
            "  font.set_text(s, 0.0, flags=flags)\n",
            "/usr/local/lib/python3.6/dist-packages/matplotlib/backends/backend_agg.py:183: RuntimeWarning: Glyph 50672 missing from current font.\n",
            "  font.set_text(s, 0, flags=flags)\n",
            "/usr/local/lib/python3.6/dist-packages/matplotlib/backends/backend_agg.py:183: RuntimeWarning: Glyph 48393 missing from current font.\n",
            "  font.set_text(s, 0, flags=flags)\n"
          ],
          "name": "stderr"
        },
        {
          "output_type": "display_data",
          "data": {
            "image/png": "[encoded data removed]",
            "text/plain": [
              "<Figure size 432x288 with 1 Axes>"
            ]
          },
          "metadata": {
            "tags": [],
            "needs_background": "light"
          }
        }
      ]
    },
    {
      "cell_type": "code",
      "metadata": {
        "id": "GtfhsUAdnq4w",
        "outputId": "770567a6-7582-4bb6-e776-3787677faa9a",
        "colab": {
          "base_uri": "https://localhost:8080/",
          "height": 323
        }
      },
      "source": [
        "# 그래프에서 한글 보이도록 설정\n",
        "\n",
        "!sudo apt-get install -y fonts-nanum\n",
        "!sudo fc-cache -fv\n",
        "!rm ~/.cache/matplotlib -rf\n",
        "\n",
        "plt.rc('font', family='NanumBarunGothic') \n",
        "\n",
        "# Runtime -> Restart runtime"
      ],
      "execution_count": null,
      "outputs": [
        {
          "output_type": "stream",
          "text": [
            "Reading package lists... Done\n",
            "Building dependency tree       \n",
            "Reading state information... Done\n",
            "fonts-nanum is already the newest version (20170925-1).\n",
            "0 upgraded, 0 newly installed, 0 to remove and 22 not upgraded.\n",
            "/usr/share/fonts: caching, new cache contents: 0 fonts, 1 dirs\n",
            "/usr/share/fonts/truetype: caching, new cache contents: 0 fonts, 3 dirs\n",
            "/usr/share/fonts/truetype/humor-sans: caching, new cache contents: 1 fonts, 0 dirs\n",
            "/usr/share/fonts/truetype/liberation: caching, new cache contents: 16 fonts, 0 dirs\n",
            "/usr/share/fonts/truetype/nanum: caching, new cache contents: 10 fonts, 0 dirs\n",
            "/usr/local/share/fonts: caching, new cache contents: 0 fonts, 0 dirs\n",
            "/root/.local/share/fonts: skipping, no such directory\n",
            "/root/.fonts: skipping, no such directory\n",
            "/var/cache/fontconfig: cleaning cache directory\n",
            "/root/.cache/fontconfig: not cleaning non-existent cache directory\n",
            "/root/.fontconfig: not cleaning non-existent cache directory\n",
            "fc-cache: succeeded\n"
          ],
          "name": "stdout"
        }
      ]
    },
    {
      "cell_type": "code",
      "metadata": {
        "id": "nyYXjYCynrx5"
      },
      "source": [
        "# 회귀 분석에 사용할 피처 살펴보자\n",
        "picher_feature_df = picher[['승', '패', '세', '홀드', '블론', '경기', '선발', '이닝', '삼진/9',\n",
        "       '볼넷/9', '홈런/9', 'BABIP', 'LOB%', 'ERA', 'RA9-WAR', 'FIP', 'kFIP', 'WAR',\n",
        "       '연봉(2018)', '연봉(2017)']]"
      ],
      "execution_count": null,
      "outputs": []
    },
    {
      "cell_type": "code",
      "metadata": {
        "id": "fmf3O4rFp-Vv",
        "outputId": "52cf2400-2bd4-4903-8e70-de14625d2d49",
        "colab": {
          "base_uri": "https://localhost:8080/",
          "height": 1000
        }
      },
      "source": [
        "# 피처 각각에 대한 히스토그램을 출력\n",
        "\n",
        "def plot_hist_each_column(df):\n",
        "  plt.rcParams['figure.figsize'] = [20,16]\n",
        "  fig = plt.figure(1)\n",
        "\n",
        "  # df 의 열 개수 만큼의 subplot을 출력한다. \n",
        "\n",
        "  for i in range(len(df.columns)):\n",
        "    ax = fig.add_subplot(5, 5, i+1)\n",
        "    plt.hist(df[df.columns[i]], bins=50)\n",
        "    ax.set_title(df.columns[i])\n",
        "  plt.show()\n",
        "\n",
        "plot_hist_each_column(picher_feature_df)\n",
        "\n",
        "# 각 피처들 간의 단위가 크게 다르다 0~8 , 0~200000 등등"
      ],
      "execution_count": null,
      "outputs": [
        {
          "output_type": "stream",
          "text": [
            "/usr/local/lib/python3.6/dist-packages/matplotlib/backends/backend_agg.py:214: RuntimeWarning: Glyph 49849 missing from current font.\n",
            "  font.set_text(s, 0.0, flags=flags)\n",
            "/usr/local/lib/python3.6/dist-packages/matplotlib/backends/backend_agg.py:214: RuntimeWarning: Glyph 54056 missing from current font.\n",
            "  font.set_text(s, 0.0, flags=flags)\n",
            "/usr/local/lib/python3.6/dist-packages/matplotlib/backends/backend_agg.py:214: RuntimeWarning: Glyph 49464 missing from current font.\n",
            "  font.set_text(s, 0.0, flags=flags)\n",
            "/usr/local/lib/python3.6/dist-packages/matplotlib/backends/backend_agg.py:214: RuntimeWarning: Glyph 54848 missing from current font.\n",
            "  font.set_text(s, 0.0, flags=flags)\n",
            "/usr/local/lib/python3.6/dist-packages/matplotlib/backends/backend_agg.py:214: RuntimeWarning: Glyph 46300 missing from current font.\n",
            "  font.set_text(s, 0.0, flags=flags)\n",
            "/usr/local/lib/python3.6/dist-packages/matplotlib/backends/backend_agg.py:214: RuntimeWarning: Glyph 48660 missing from current font.\n",
            "  font.set_text(s, 0.0, flags=flags)\n",
            "/usr/local/lib/python3.6/dist-packages/matplotlib/backends/backend_agg.py:214: RuntimeWarning: Glyph 47200 missing from current font.\n",
            "  font.set_text(s, 0.0, flags=flags)\n",
            "/usr/local/lib/python3.6/dist-packages/matplotlib/backends/backend_agg.py:214: RuntimeWarning: Glyph 44221 missing from current font.\n",
            "  font.set_text(s, 0.0, flags=flags)\n",
            "/usr/local/lib/python3.6/dist-packages/matplotlib/backends/backend_agg.py:214: RuntimeWarning: Glyph 44592 missing from current font.\n",
            "  font.set_text(s, 0.0, flags=flags)\n",
            "/usr/local/lib/python3.6/dist-packages/matplotlib/backends/backend_agg.py:214: RuntimeWarning: Glyph 49440 missing from current font.\n",
            "  font.set_text(s, 0.0, flags=flags)\n",
            "/usr/local/lib/python3.6/dist-packages/matplotlib/backends/backend_agg.py:214: RuntimeWarning: Glyph 48156 missing from current font.\n",
            "  font.set_text(s, 0.0, flags=flags)\n",
            "/usr/local/lib/python3.6/dist-packages/matplotlib/backends/backend_agg.py:214: RuntimeWarning: Glyph 51060 missing from current font.\n",
            "  font.set_text(s, 0.0, flags=flags)\n",
            "/usr/local/lib/python3.6/dist-packages/matplotlib/backends/backend_agg.py:214: RuntimeWarning: Glyph 45789 missing from current font.\n",
            "  font.set_text(s, 0.0, flags=flags)\n",
            "/usr/local/lib/python3.6/dist-packages/matplotlib/backends/backend_agg.py:214: RuntimeWarning: Glyph 49340 missing from current font.\n",
            "  font.set_text(s, 0.0, flags=flags)\n",
            "/usr/local/lib/python3.6/dist-packages/matplotlib/backends/backend_agg.py:214: RuntimeWarning: Glyph 51652 missing from current font.\n",
            "  font.set_text(s, 0.0, flags=flags)\n",
            "/usr/local/lib/python3.6/dist-packages/matplotlib/backends/backend_agg.py:214: RuntimeWarning: Glyph 48380 missing from current font.\n",
            "  font.set_text(s, 0.0, flags=flags)\n",
            "/usr/local/lib/python3.6/dist-packages/matplotlib/backends/backend_agg.py:214: RuntimeWarning: Glyph 45367 missing from current font.\n",
            "  font.set_text(s, 0.0, flags=flags)\n",
            "/usr/local/lib/python3.6/dist-packages/matplotlib/backends/backend_agg.py:214: RuntimeWarning: Glyph 54856 missing from current font.\n",
            "  font.set_text(s, 0.0, flags=flags)\n",
            "/usr/local/lib/python3.6/dist-packages/matplotlib/backends/backend_agg.py:214: RuntimeWarning: Glyph 47088 missing from current font.\n",
            "  font.set_text(s, 0.0, flags=flags)\n",
            "/usr/local/lib/python3.6/dist-packages/matplotlib/backends/backend_agg.py:214: RuntimeWarning: Glyph 50672 missing from current font.\n",
            "  font.set_text(s, 0.0, flags=flags)\n",
            "/usr/local/lib/python3.6/dist-packages/matplotlib/backends/backend_agg.py:214: RuntimeWarning: Glyph 48393 missing from current font.\n",
            "  font.set_text(s, 0.0, flags=flags)\n",
            "/usr/local/lib/python3.6/dist-packages/matplotlib/backends/backend_agg.py:183: RuntimeWarning: Glyph 49849 missing from current font.\n",
            "  font.set_text(s, 0, flags=flags)\n",
            "/usr/local/lib/python3.6/dist-packages/matplotlib/backends/backend_agg.py:183: RuntimeWarning: Glyph 54056 missing from current font.\n",
            "  font.set_text(s, 0, flags=flags)\n",
            "/usr/local/lib/python3.6/dist-packages/matplotlib/backends/backend_agg.py:183: RuntimeWarning: Glyph 49464 missing from current font.\n",
            "  font.set_text(s, 0, flags=flags)\n",
            "/usr/local/lib/python3.6/dist-packages/matplotlib/backends/backend_agg.py:183: RuntimeWarning: Glyph 54848 missing from current font.\n",
            "  font.set_text(s, 0, flags=flags)\n",
            "/usr/local/lib/python3.6/dist-packages/matplotlib/backends/backend_agg.py:183: RuntimeWarning: Glyph 46300 missing from current font.\n",
            "  font.set_text(s, 0, flags=flags)\n",
            "/usr/local/lib/python3.6/dist-packages/matplotlib/backends/backend_agg.py:183: RuntimeWarning: Glyph 48660 missing from current font.\n",
            "  font.set_text(s, 0, flags=flags)\n",
            "/usr/local/lib/python3.6/dist-packages/matplotlib/backends/backend_agg.py:183: RuntimeWarning: Glyph 47200 missing from current font.\n",
            "  font.set_text(s, 0, flags=flags)\n",
            "/usr/local/lib/python3.6/dist-packages/matplotlib/backends/backend_agg.py:183: RuntimeWarning: Glyph 44221 missing from current font.\n",
            "  font.set_text(s, 0, flags=flags)\n",
            "/usr/local/lib/python3.6/dist-packages/matplotlib/backends/backend_agg.py:183: RuntimeWarning: Glyph 44592 missing from current font.\n",
            "  font.set_text(s, 0, flags=flags)\n",
            "/usr/local/lib/python3.6/dist-packages/matplotlib/backends/backend_agg.py:183: RuntimeWarning: Glyph 49440 missing from current font.\n",
            "  font.set_text(s, 0, flags=flags)\n",
            "/usr/local/lib/python3.6/dist-packages/matplotlib/backends/backend_agg.py:183: RuntimeWarning: Glyph 48156 missing from current font.\n",
            "  font.set_text(s, 0, flags=flags)\n",
            "/usr/local/lib/python3.6/dist-packages/matplotlib/backends/backend_agg.py:183: RuntimeWarning: Glyph 51060 missing from current font.\n",
            "  font.set_text(s, 0, flags=flags)\n",
            "/usr/local/lib/python3.6/dist-packages/matplotlib/backends/backend_agg.py:183: RuntimeWarning: Glyph 45789 missing from current font.\n",
            "  font.set_text(s, 0, flags=flags)\n",
            "/usr/local/lib/python3.6/dist-packages/matplotlib/backends/backend_agg.py:183: RuntimeWarning: Glyph 49340 missing from current font.\n",
            "  font.set_text(s, 0, flags=flags)\n",
            "/usr/local/lib/python3.6/dist-packages/matplotlib/backends/backend_agg.py:183: RuntimeWarning: Glyph 51652 missing from current font.\n",
            "  font.set_text(s, 0, flags=flags)\n",
            "/usr/local/lib/python3.6/dist-packages/matplotlib/backends/backend_agg.py:183: RuntimeWarning: Glyph 48380 missing from current font.\n",
            "  font.set_text(s, 0, flags=flags)\n",
            "/usr/local/lib/python3.6/dist-packages/matplotlib/backends/backend_agg.py:183: RuntimeWarning: Glyph 45367 missing from current font.\n",
            "  font.set_text(s, 0, flags=flags)\n",
            "/usr/local/lib/python3.6/dist-packages/matplotlib/backends/backend_agg.py:183: RuntimeWarning: Glyph 54856 missing from current font.\n",
            "  font.set_text(s, 0, flags=flags)\n",
            "/usr/local/lib/python3.6/dist-packages/matplotlib/backends/backend_agg.py:183: RuntimeWarning: Glyph 47088 missing from current font.\n",
            "  font.set_text(s, 0, flags=flags)\n",
            "/usr/local/lib/python3.6/dist-packages/matplotlib/backends/backend_agg.py:183: RuntimeWarning: Glyph 50672 missing from current font.\n",
            "  font.set_text(s, 0, flags=flags)\n",
            "/usr/local/lib/python3.6/dist-packages/matplotlib/backends/backend_agg.py:183: RuntimeWarning: Glyph 48393 missing from current font.\n",
            "  font.set_text(s, 0, flags=flags)\n"
          ],
          "name": "stderr"
        },
        {
          "output_type": "display_data",
          "data": {
            "image/png": "[encoded data removed]",
            "text/plain": [
              "<Figure size 1440x1152 with 20 Axes>"
            ]
          },
          "metadata": {
            "tags": [],
            "needs_background": "light"
          }
        }
      ]
    },
    {
      "cell_type": "code",
      "metadata": {
        "id": "IpW7jaXnr6Pt"
      },
      "source": [
        "#step2\n",
        "\n",
        "# 정규화 (스케일링)\n",
        "# 피처들의 단위 맞춰주자 -> 피처 스케일링\n",
        "\n",
        "\n",
        "# 피처 각각에 대한 스케일링 수행하는 함수 정의\n",
        "\n",
        "def standard_scaling(df, scale_columns):\n",
        "    for col in scale_columns:\n",
        "        series_mean = df[col].mean()\n",
        "        series_std = df[col].std()\n",
        "        df[col] = df[col].apply(lambda x: (x-series_mean)/series_std)\n",
        "    return df\n",
        "\n",
        "# 피처 각각에 대한 스케일링 수행\n",
        "scale_columns = ['승', '패', '세', '홀드', '블론', '경기', '선발', '이닝', '삼진/9',\n",
        "       '볼넷/9', '홈런/9', 'BABIP', 'LOB%', 'ERA', 'RA9-WAR', 'FIP', 'kFIP', 'WAR',\n",
        "       '연봉(2018)', '연봉(2017)']\n",
        "\n",
        "picher_df = standard_scaling(picher, scale_columns)\n"
      ],
      "execution_count": null,
      "outputs": []
    },
    {
      "cell_type": "markdown",
      "metadata": {
        "id": "FiuEvxiFvDnw"
      },
      "source": [
        ""
      ]
    },
    {
      "cell_type": "code",
      "metadata": {
        "id": "ttdlRWhDu7KP",
        "outputId": "f786802a-2d71-4924-8ff7-1eba2bc47d60",
        "colab": {
          "base_uri": "https://localhost:8080/",
          "height": 394
        }
      },
      "source": [
        "picher_df = picher_df.rename(columns={'연봉(2018)':'y'})\n",
        "picher_df.head()"
      ],
      "execution_count": null,
      "outputs": [
        {
          "output_type": "execute_result",
          "data": {
            "text/html": [
              "<div>\n",
              "<style scoped>\n",
              "    .dataframe tbody tr th:only-of-type {\n",
              "        vertical-align: middle;\n",
              "    }\n",
              "\n",
              "    .dataframe tbody tr th {\n",
              "        vertical-align: top;\n",
              "    }\n",
              "\n",
              "    .dataframe thead th {\n",
              "        text-align: right;\n",
              "    }\n",
              "</style>\n",
              "<table border=\"1\" class=\"dataframe\">\n",
              "  <thead>\n",
              "    <tr style=\"text-align: right;\">\n",
              "      <th></th>\n",
              "      <th>선수명</th>\n",
              "      <th>팀명</th>\n",
              "      <th>승</th>\n",
              "      <th>패</th>\n",
              "      <th>세</th>\n",
              "      <th>홀드</th>\n",
              "      <th>블론</th>\n",
              "      <th>경기</th>\n",
              "      <th>선발</th>\n",
              "      <th>이닝</th>\n",
              "      <th>삼진/9</th>\n",
              "      <th>볼넷/9</th>\n",
              "      <th>홈런/9</th>\n",
              "      <th>BABIP</th>\n",
              "      <th>LOB%</th>\n",
              "      <th>ERA</th>\n",
              "      <th>RA9-WAR</th>\n",
              "      <th>FIP</th>\n",
              "      <th>kFIP</th>\n",
              "      <th>WAR</th>\n",
              "      <th>y</th>\n",
              "      <th>연봉(2017)</th>\n",
              "    </tr>\n",
              "  </thead>\n",
              "  <tbody>\n",
              "    <tr>\n",
              "      <th>0</th>\n",
              "      <td>켈리</td>\n",
              "      <td>SK</td>\n",
              "      <td>3.313623</td>\n",
              "      <td>1.227145</td>\n",
              "      <td>-0.306452</td>\n",
              "      <td>-0.585705</td>\n",
              "      <td>-0.543592</td>\n",
              "      <td>0.059433</td>\n",
              "      <td>2.452068</td>\n",
              "      <td>2.645175</td>\n",
              "      <td>0.672099</td>\n",
              "      <td>-0.869000</td>\n",
              "      <td>-0.442382</td>\n",
              "      <td>0.016783</td>\n",
              "      <td>0.446615</td>\n",
              "      <td>-0.587056</td>\n",
              "      <td>3.174630</td>\n",
              "      <td>-0.971030</td>\n",
              "      <td>-1.058125</td>\n",
              "      <td>4.503142</td>\n",
              "      <td>3.912893</td>\n",
              "      <td>2.734705</td>\n",
              "    </tr>\n",
              "    <tr>\n",
              "      <th>1</th>\n",
              "      <td>소사</td>\n",
              "      <td>LG</td>\n",
              "      <td>2.019505</td>\n",
              "      <td>2.504721</td>\n",
              "      <td>-0.098502</td>\n",
              "      <td>-0.585705</td>\n",
              "      <td>-0.543592</td>\n",
              "      <td>0.059433</td>\n",
              "      <td>2.349505</td>\n",
              "      <td>2.547755</td>\n",
              "      <td>0.134531</td>\n",
              "      <td>-0.987502</td>\n",
              "      <td>-0.668521</td>\n",
              "      <td>-0.241686</td>\n",
              "      <td>-0.122764</td>\n",
              "      <td>-0.519855</td>\n",
              "      <td>3.114968</td>\n",
              "      <td>-1.061888</td>\n",
              "      <td>-1.073265</td>\n",
              "      <td>4.094734</td>\n",
              "      <td>3.266495</td>\n",
              "      <td>1.337303</td>\n",
              "    </tr>\n",
              "    <tr>\n",
              "      <th>2</th>\n",
              "      <td>양현종</td>\n",
              "      <td>KIA</td>\n",
              "      <td>4.348918</td>\n",
              "      <td>0.907751</td>\n",
              "      <td>-0.306452</td>\n",
              "      <td>-0.585705</td>\n",
              "      <td>-0.543592</td>\n",
              "      <td>0.111056</td>\n",
              "      <td>2.554632</td>\n",
              "      <td>2.706808</td>\n",
              "      <td>0.109775</td>\n",
              "      <td>-0.885929</td>\n",
              "      <td>-0.412886</td>\n",
              "      <td>-0.095595</td>\n",
              "      <td>0.308584</td>\n",
              "      <td>-0.625456</td>\n",
              "      <td>2.973948</td>\n",
              "      <td>-0.837415</td>\n",
              "      <td>-0.866361</td>\n",
              "      <td>3.761956</td>\n",
              "      <td>6.821679</td>\n",
              "      <td>5.329881</td>\n",
              "    </tr>\n",
              "    <tr>\n",
              "      <th>3</th>\n",
              "      <td>차우찬</td>\n",
              "      <td>LG</td>\n",
              "      <td>1.760682</td>\n",
              "      <td>1.227145</td>\n",
              "      <td>-0.306452</td>\n",
              "      <td>-0.585705</td>\n",
              "      <td>-0.543592</td>\n",
              "      <td>-0.043811</td>\n",
              "      <td>2.246942</td>\n",
              "      <td>2.350927</td>\n",
              "      <td>0.350266</td>\n",
              "      <td>-0.945180</td>\n",
              "      <td>-0.186746</td>\n",
              "      <td>-0.477680</td>\n",
              "      <td>0.558765</td>\n",
              "      <td>-0.627856</td>\n",
              "      <td>2.740722</td>\n",
              "      <td>-0.698455</td>\n",
              "      <td>-0.760385</td>\n",
              "      <td>2.998081</td>\n",
              "      <td>2.620098</td>\n",
              "      <td>3.333592</td>\n",
              "    </tr>\n",
              "    <tr>\n",
              "      <th>4</th>\n",
              "      <td>레일리</td>\n",
              "      <td>롯데</td>\n",
              "      <td>2.537153</td>\n",
              "      <td>1.227145</td>\n",
              "      <td>-0.306452</td>\n",
              "      <td>-0.585705</td>\n",
              "      <td>-0.543592</td>\n",
              "      <td>0.059433</td>\n",
              "      <td>2.452068</td>\n",
              "      <td>2.587518</td>\n",
              "      <td>0.155751</td>\n",
              "      <td>-0.877464</td>\n",
              "      <td>-0.294900</td>\n",
              "      <td>-0.196735</td>\n",
              "      <td>0.481122</td>\n",
              "      <td>-0.539055</td>\n",
              "      <td>2.751570</td>\n",
              "      <td>-0.612941</td>\n",
              "      <td>-0.619085</td>\n",
              "      <td>2.809003</td>\n",
              "      <td>2.975617</td>\n",
              "      <td>2.734705</td>\n",
              "    </tr>\n",
              "  </tbody>\n",
              "</table>\n",
              "</div>"
            ],
            "text/plain": [
              "   선수명   팀명         승         패  ...      kFIP       WAR         y  연봉(2017)\n",
              "0   켈리   SK  3.313623  1.227145  ... -1.058125  4.503142  3.912893  2.734705\n",
              "1   소사   LG  2.019505  2.504721  ... -1.073265  4.094734  3.266495  1.337303\n",
              "2  양현종  KIA  4.348918  0.907751  ... -0.866361  3.761956  6.821679  5.329881\n",
              "3  차우찬   LG  1.760682  1.227145  ... -0.760385  2.998081  2.620098  3.333592\n",
              "4  레일리   롯데  2.537153  1.227145  ... -0.619085  2.809003  2.975617  2.734705\n",
              "\n",
              "[5 rows x 22 columns]"
            ]
          },
          "metadata": {
            "tags": []
          },
          "execution_count": 10
        }
      ]
    },
    {
      "cell_type": "code",
      "metadata": {
        "id": "CzRGgv4rxW0Z",
        "outputId": "81c74fbf-70f2-4c49-b360-b61b69ebaf36",
        "colab": {
          "base_uri": "https://localhost:8080/",
          "height": 592
        }
      },
      "source": [
        "# 연속형이 아닌 범주형(카테고리형)피처들 정규화   -> 원-핫 인코딩 (one-hot encoding)\n",
        "# 0.2, 1.2, 10, 100 ... 연속형 피처는 컴퓨터가 계산할수 있는 형태 그런데, \n",
        "# 과일 종류 같은 범주형 피처는 컴퓨터가 계산 할수 없다.이러한 피처들은 컴퓨터가 이해할수 있는 형태로\n",
        "# 변경해야한다. 가장 대표적인 변환 방식이 원-핫 인코딩 방식이다. \n",
        "\n",
        "# 팀명 피처를 ont - hot encoding 으로 변환\n",
        "team_encoding = pd.get_dummies(picher_df['팀명'])\n",
        "picher_df = picher_df.drop('팀명', axis=1)\n",
        "picher_df = picher_df.join(team_encoding)\n",
        "team_encoding.head()\n"
      ],
      "execution_count": null,
      "outputs": [
        {
          "output_type": "error",
          "ename": "KeyError",
          "evalue": "ignored",
          "traceback": [
            "\u001b[0;31m---------------------------------------------------------------------------\u001b[0m",
            "\u001b[0;31mKeyError\u001b[0m                                  Traceback (most recent call last)",
            "\u001b[0;32m/usr/local/lib/python3.6/dist-packages/pandas/core/indexes/base.py\u001b[0m in \u001b[0;36mget_loc\u001b[0;34m(self, key, method, tolerance)\u001b[0m\n\u001b[1;32m   2890\u001b[0m             \u001b[0;32mtry\u001b[0m\u001b[0;34m:\u001b[0m\u001b[0;34m\u001b[0m\u001b[0;34m\u001b[0m\u001b[0m\n\u001b[0;32m-> 2891\u001b[0;31m                 \u001b[0;32mreturn\u001b[0m \u001b[0mself\u001b[0m\u001b[0;34m.\u001b[0m\u001b[0m_engine\u001b[0m\u001b[0;34m.\u001b[0m\u001b[0mget_loc\u001b[0m\u001b[0;34m(\u001b[0m\u001b[0mcasted_key\u001b[0m\u001b[0;34m)\u001b[0m\u001b[0;34m\u001b[0m\u001b[0;34m\u001b[0m\u001b[0m\n\u001b[0m\u001b[1;32m   2892\u001b[0m             \u001b[0;32mexcept\u001b[0m \u001b[0mKeyError\u001b[0m \u001b[0;32mas\u001b[0m \u001b[0merr\u001b[0m\u001b[0;34m:\u001b[0m\u001b[0;34m\u001b[0m\u001b[0;34m\u001b[0m\u001b[0m\n",
            "\u001b[0;32mpandas/_libs/index.pyx\u001b[0m in \u001b[0;36mpandas._libs.index.IndexEngine.get_loc\u001b[0;34m()\u001b[0m\n",
            "\u001b[0;32mpandas/_libs/index.pyx\u001b[0m in \u001b[0;36mpandas._libs.index.IndexEngine.get_loc\u001b[0;34m()\u001b[0m\n",
            "\u001b[0;32mpandas/_libs/hashtable_class_helper.pxi\u001b[0m in \u001b[0;36mpandas._libs.hashtable.PyObjectHashTable.get_item\u001b[0;34m()\u001b[0m\n",
            "\u001b[0;32mpandas/_libs/hashtable_class_helper.pxi\u001b[0m in \u001b[0;36mpandas._libs.hashtable.PyObjectHashTable.get_item\u001b[0;34m()\u001b[0m\n",
            "\u001b[0;31mKeyError\u001b[0m: '팀명'",
            "\nThe above exception was the direct cause of the following exception:\n",
            "\u001b[0;31mKeyError\u001b[0m                                  Traceback (most recent call last)",
            "\u001b[0;32m<ipython-input-12-de901af6d75e>\u001b[0m in \u001b[0;36m<module>\u001b[0;34m()\u001b[0m\n\u001b[1;32m      5\u001b[0m \u001b[0;34m\u001b[0m\u001b[0m\n\u001b[1;32m      6\u001b[0m \u001b[0;31m# 팀명 피처를 ont - hot encoding 으로 변환\u001b[0m\u001b[0;34m\u001b[0m\u001b[0;34m\u001b[0m\u001b[0;34m\u001b[0m\u001b[0m\n\u001b[0;32m----> 7\u001b[0;31m \u001b[0mteam_encoding\u001b[0m \u001b[0;34m=\u001b[0m \u001b[0mpd\u001b[0m\u001b[0;34m.\u001b[0m\u001b[0mget_dummies\u001b[0m\u001b[0;34m(\u001b[0m\u001b[0mpicher_df\u001b[0m\u001b[0;34m[\u001b[0m\u001b[0;34m'팀명'\u001b[0m\u001b[0;34m]\u001b[0m\u001b[0;34m)\u001b[0m\u001b[0;34m\u001b[0m\u001b[0;34m\u001b[0m\u001b[0m\n\u001b[0m\u001b[1;32m      8\u001b[0m \u001b[0mpicher_df\u001b[0m \u001b[0;34m=\u001b[0m \u001b[0mpicher_df\u001b[0m\u001b[0;34m.\u001b[0m\u001b[0mdrop\u001b[0m\u001b[0;34m(\u001b[0m\u001b[0;34m'팀명'\u001b[0m\u001b[0;34m,\u001b[0m \u001b[0maxis\u001b[0m\u001b[0;34m=\u001b[0m\u001b[0;36m1\u001b[0m\u001b[0;34m)\u001b[0m\u001b[0;34m\u001b[0m\u001b[0;34m\u001b[0m\u001b[0m\n\u001b[1;32m      9\u001b[0m \u001b[0mpicher_df\u001b[0m \u001b[0;34m=\u001b[0m \u001b[0mpicher_df\u001b[0m\u001b[0;34m.\u001b[0m\u001b[0mjoin\u001b[0m\u001b[0;34m(\u001b[0m\u001b[0mteam_encoding\u001b[0m\u001b[0;34m)\u001b[0m\u001b[0;34m\u001b[0m\u001b[0;34m\u001b[0m\u001b[0m\n",
            "\u001b[0;32m/usr/local/lib/python3.6/dist-packages/pandas/core/frame.py\u001b[0m in \u001b[0;36m__getitem__\u001b[0;34m(self, key)\u001b[0m\n\u001b[1;32m   2900\u001b[0m             \u001b[0;32mif\u001b[0m \u001b[0mself\u001b[0m\u001b[0;34m.\u001b[0m\u001b[0mcolumns\u001b[0m\u001b[0;34m.\u001b[0m\u001b[0mnlevels\u001b[0m \u001b[0;34m>\u001b[0m \u001b[0;36m1\u001b[0m\u001b[0;34m:\u001b[0m\u001b[0;34m\u001b[0m\u001b[0;34m\u001b[0m\u001b[0m\n\u001b[1;32m   2901\u001b[0m                 \u001b[0;32mreturn\u001b[0m \u001b[0mself\u001b[0m\u001b[0;34m.\u001b[0m\u001b[0m_getitem_multilevel\u001b[0m\u001b[0;34m(\u001b[0m\u001b[0mkey\u001b[0m\u001b[0;34m)\u001b[0m\u001b[0;34m\u001b[0m\u001b[0;34m\u001b[0m\u001b[0m\n\u001b[0;32m-> 2902\u001b[0;31m             \u001b[0mindexer\u001b[0m \u001b[0;34m=\u001b[0m \u001b[0mself\u001b[0m\u001b[0;34m.\u001b[0m\u001b[0mcolumns\u001b[0m\u001b[0;34m.\u001b[0m\u001b[0mget_loc\u001b[0m\u001b[0;34m(\u001b[0m\u001b[0mkey\u001b[0m\u001b[0;34m)\u001b[0m\u001b[0;34m\u001b[0m\u001b[0;34m\u001b[0m\u001b[0m\n\u001b[0m\u001b[1;32m   2903\u001b[0m             \u001b[0;32mif\u001b[0m \u001b[0mis_integer\u001b[0m\u001b[0;34m(\u001b[0m\u001b[0mindexer\u001b[0m\u001b[0;34m)\u001b[0m\u001b[0;34m:\u001b[0m\u001b[0;34m\u001b[0m\u001b[0;34m\u001b[0m\u001b[0m\n\u001b[1;32m   2904\u001b[0m                 \u001b[0mindexer\u001b[0m \u001b[0;34m=\u001b[0m \u001b[0;34m[\u001b[0m\u001b[0mindexer\u001b[0m\u001b[0;34m]\u001b[0m\u001b[0;34m\u001b[0m\u001b[0;34m\u001b[0m\u001b[0m\n",
            "\u001b[0;32m/usr/local/lib/python3.6/dist-packages/pandas/core/indexes/base.py\u001b[0m in \u001b[0;36mget_loc\u001b[0;34m(self, key, method, tolerance)\u001b[0m\n\u001b[1;32m   2891\u001b[0m                 \u001b[0;32mreturn\u001b[0m \u001b[0mself\u001b[0m\u001b[0;34m.\u001b[0m\u001b[0m_engine\u001b[0m\u001b[0;34m.\u001b[0m\u001b[0mget_loc\u001b[0m\u001b[0;34m(\u001b[0m\u001b[0mcasted_key\u001b[0m\u001b[0;34m)\u001b[0m\u001b[0;34m\u001b[0m\u001b[0;34m\u001b[0m\u001b[0m\n\u001b[1;32m   2892\u001b[0m             \u001b[0;32mexcept\u001b[0m \u001b[0mKeyError\u001b[0m \u001b[0;32mas\u001b[0m \u001b[0merr\u001b[0m\u001b[0;34m:\u001b[0m\u001b[0;34m\u001b[0m\u001b[0;34m\u001b[0m\u001b[0m\n\u001b[0;32m-> 2893\u001b[0;31m                 \u001b[0;32mraise\u001b[0m \u001b[0mKeyError\u001b[0m\u001b[0;34m(\u001b[0m\u001b[0mkey\u001b[0m\u001b[0;34m)\u001b[0m \u001b[0;32mfrom\u001b[0m \u001b[0merr\u001b[0m\u001b[0;34m\u001b[0m\u001b[0;34m\u001b[0m\u001b[0m\n\u001b[0m\u001b[1;32m   2894\u001b[0m \u001b[0;34m\u001b[0m\u001b[0m\n\u001b[1;32m   2895\u001b[0m         \u001b[0;32mif\u001b[0m \u001b[0mtolerance\u001b[0m \u001b[0;32mis\u001b[0m \u001b[0;32mnot\u001b[0m \u001b[0;32mNone\u001b[0m\u001b[0;34m:\u001b[0m\u001b[0;34m\u001b[0m\u001b[0;34m\u001b[0m\u001b[0m\n",
            "\u001b[0;31mKeyError\u001b[0m: '팀명'"
          ]
        }
      ]
    },
    {
      "cell_type": "code",
      "metadata": {
        "id": "yrlCOtTk3uco"
      },
      "source": [
        "# 학습데이터와 테스트 데이터로 분리 \n",
        "\n",
        "from sklearn import linear_model\n",
        "from sklearn.model_selection import train_test_split\n",
        "from sklearn.metrics import mean_squared_error\n",
        "from math import sqrt\n",
        "\n",
        "\n",
        "X = picher_df[picher_df.columns.difference(['선수명','y'])]\n",
        "y = picher_df['y']\n",
        "X_train, X_test, y_train, y_test = train_test_split(X,y,test_size = 0.2, random_state=19)\n",
        "\n"
      ],
      "execution_count": null,
      "outputs": []
    },
    {
      "cell_type": "code",
      "metadata": {
        "id": "vkrHFBsC6pO9"
      },
      "source": [
        ""
      ],
      "execution_count": null,
      "outputs": []
    },
    {
      "cell_type": "code",
      "metadata": {
        "id": "UPXYrHl_5837",
        "outputId": "69694084-6592-436d-fac2-4f1b9475d4ec",
        "colab": {
          "base_uri": "https://localhost:8080/",
          "height": 226
        }
      },
      "source": [
        "# 회귀 분석 계수 학습 & 학습된 계수 출력 (회귀 모델 학습)\n",
        "\n",
        "Ir = linear_model.LinearRegression()\n",
        "model = Ir.fit(X_train, y_)\n",
        "print(lr.coef_)"
      ],
      "execution_count": null,
      "outputs": [
        {
          "output_type": "error",
          "ename": "NameError",
          "evalue": "ignored",
          "traceback": [
            "\u001b[0;31m---------------------------------------------------------------------------\u001b[0m",
            "\u001b[0;31mNameError\u001b[0m                                 Traceback (most recent call last)",
            "\u001b[0;32m<ipython-input-21-0508842f1d93>\u001b[0m in \u001b[0;36m<module>\u001b[0;34m()\u001b[0m\n\u001b[1;32m      2\u001b[0m \u001b[0;34m\u001b[0m\u001b[0m\n\u001b[1;32m      3\u001b[0m \u001b[0mIr\u001b[0m \u001b[0;34m=\u001b[0m \u001b[0mlinear_model\u001b[0m\u001b[0;34m.\u001b[0m\u001b[0mLinearRegression\u001b[0m\u001b[0;34m(\u001b[0m\u001b[0;34m)\u001b[0m\u001b[0;34m\u001b[0m\u001b[0;34m\u001b[0m\u001b[0m\n\u001b[0;32m----> 4\u001b[0;31m \u001b[0mmodel\u001b[0m \u001b[0;34m=\u001b[0m \u001b[0mIr\u001b[0m\u001b[0;34m.\u001b[0m\u001b[0mfit\u001b[0m\u001b[0;34m(\u001b[0m\u001b[0mX_train\u001b[0m\u001b[0;34m,\u001b[0m \u001b[0my_\u001b[0m\u001b[0;34m)\u001b[0m\u001b[0;34m\u001b[0m\u001b[0;34m\u001b[0m\u001b[0m\n\u001b[0m\u001b[1;32m      5\u001b[0m \u001b[0mprint\u001b[0m\u001b[0;34m(\u001b[0m\u001b[0mlr\u001b[0m\u001b[0;34m.\u001b[0m\u001b[0mcoef_\u001b[0m\u001b[0;34m)\u001b[0m\u001b[0;34m\u001b[0m\u001b[0;34m\u001b[0m\u001b[0m\n",
            "\u001b[0;31mNameError\u001b[0m: name 'y_' is not defined"
          ]
        }
      ]
    },
    {
      "cell_type": "code",
      "metadata": {
        "id": "8PdenmbQ6nA4",
        "outputId": "a5ecf9d3-4713-49ba-8e31-8f10687c53db",
        "colab": {
          "base_uri": "https://localhost:8080/",
          "height": 1000
        }
      },
      "source": [
        "###########################################\n",
        "# step 3 평가 \n",
        "###########################################\n",
        "\n",
        "\n",
        "# 어떤 피처가 가장 영향력이 강한 피처일까? \n",
        "\n",
        "import statsmodels.api as sm\n",
        "\n",
        "X_train = sm.add_constant(X_train)\n",
        "model = sm.OLS(y_train, X_train).fit()\n",
        "model.summary()\n",
        "\n",
        "\n",
        "# R-squared 결정계수     0.928\n",
        "# Adj. R-squared 수정결정계수 0.907\n",
        "# F-statistic F통계량 은 Prob (F-statistic) 함께 봐야 한다. \n",
        "# 일반적으로 0.05 이하이며 이면 F통계량이 유의한 의미를 가진다. \n",
        "\n",
        "# 회귀분석이 얼마나 잘 되었지 평가하는 지표\n",
        "# 회귀분석으로 추정한 모델이 주어진 데이터를 얼마나 잘 설명하는가 \n",
        "# 1에 가까울수록 데이터를 잘 설명하는 모델이다. \n"
      ],
      "execution_count": null,
      "outputs": [
        {
          "output_type": "execute_result",
          "data": {
            "text/html": [
              "<table class=\"simpletable\">\n",
              "<caption>OLS Regression Results</caption>\n",
              "<tr>\n",
              "  <th>Dep. Variable:</th>            <td>y</td>        <th>  R-squared:         </th> <td>   0.928</td>\n",
              "</tr>\n",
              "<tr>\n",
              "  <th>Model:</th>                   <td>OLS</td>       <th>  Adj. R-squared:    </th> <td>   0.907</td>\n",
              "</tr>\n",
              "<tr>\n",
              "  <th>Method:</th>             <td>Least Squares</td>  <th>  F-statistic:       </th> <td>   44.19</td>\n",
              "</tr>\n",
              "<tr>\n",
              "  <th>Date:</th>             <td>Tue, 06 Oct 2020</td> <th>  Prob (F-statistic):</th> <td>7.70e-42</td>\n",
              "</tr>\n",
              "<tr>\n",
              "  <th>Time:</th>                 <td>08:15:49</td>     <th>  Log-Likelihood:    </th> <td>  3.3433</td>\n",
              "</tr>\n",
              "<tr>\n",
              "  <th>No. Observations:</th>      <td>   121</td>      <th>  AIC:               </th> <td>   49.31</td>\n",
              "</tr>\n",
              "<tr>\n",
              "  <th>Df Residuals:</th>          <td>    93</td>      <th>  BIC:               </th> <td>   127.6</td>\n",
              "</tr>\n",
              "<tr>\n",
              "  <th>Df Model:</th>              <td>    27</td>      <th>                     </th>     <td> </td>   \n",
              "</tr>\n",
              "<tr>\n",
              "  <th>Covariance Type:</th>      <td>nonrobust</td>    <th>                     </th>     <td> </td>   \n",
              "</tr>\n",
              "</table>\n",
              "<table class=\"simpletable\">\n",
              "<tr>\n",
              "      <td></td>        <th>coef</th>     <th>std err</th>      <th>t</th>      <th>P>|t|</th>  <th>[0.025</th>    <th>0.975]</th>  \n",
              "</tr>\n",
              "<tr>\n",
              "  <th>const</th>    <td>   -0.0085</td> <td>    0.023</td> <td>   -0.376</td> <td> 0.708</td> <td>   -0.053</td> <td>    0.036</td>\n",
              "</tr>\n",
              "<tr>\n",
              "  <th>BABIP</th>    <td>   -0.0479</td> <td>    0.042</td> <td>   -1.145</td> <td> 0.255</td> <td>   -0.131</td> <td>    0.035</td>\n",
              "</tr>\n",
              "<tr>\n",
              "  <th>ERA</th>      <td>   -0.0135</td> <td>    0.075</td> <td>   -0.179</td> <td> 0.858</td> <td>   -0.163</td> <td>    0.136</td>\n",
              "</tr>\n",
              "<tr>\n",
              "  <th>FIP</th>      <td>   -3.0425</td> <td>    3.048</td> <td>   -0.998</td> <td> 0.321</td> <td>   -9.094</td> <td>    3.009</td>\n",
              "</tr>\n",
              "<tr>\n",
              "  <th>KIA</th>      <td>   -0.0514</td> <td>    0.072</td> <td>   -0.716</td> <td> 0.476</td> <td>   -0.194</td> <td>    0.091</td>\n",
              "</tr>\n",
              "<tr>\n",
              "  <th>KT</th>       <td>    0.0499</td> <td>    0.069</td> <td>    0.723</td> <td> 0.471</td> <td>   -0.087</td> <td>    0.187</td>\n",
              "</tr>\n",
              "<tr>\n",
              "  <th>LG</th>       <td>   -0.0251</td> <td>    0.078</td> <td>   -0.323</td> <td> 0.747</td> <td>   -0.179</td> <td>    0.129</td>\n",
              "</tr>\n",
              "<tr>\n",
              "  <th>LOB%</th>     <td>   -0.0445</td> <td>    0.051</td> <td>   -0.879</td> <td> 0.382</td> <td>   -0.145</td> <td>    0.056</td>\n",
              "</tr>\n",
              "<tr>\n",
              "  <th>NC</th>       <td>   -0.0179</td> <td>    0.086</td> <td>   -0.208</td> <td> 0.836</td> <td>   -0.189</td> <td>    0.153</td>\n",
              "</tr>\n",
              "<tr>\n",
              "  <th>RA9-WAR</th>  <td>    0.1280</td> <td>    0.095</td> <td>    1.351</td> <td> 0.180</td> <td>   -0.060</td> <td>    0.316</td>\n",
              "</tr>\n",
              "<tr>\n",
              "  <th>SK</th>       <td>    0.0281</td> <td>    0.073</td> <td>    0.387</td> <td> 0.699</td> <td>   -0.116</td> <td>    0.172</td>\n",
              "</tr>\n",
              "<tr>\n",
              "  <th>WAR</th>      <td>    0.3320</td> <td>    0.082</td> <td>    4.057</td> <td> 0.000</td> <td>    0.169</td> <td>    0.495</td>\n",
              "</tr>\n",
              "<tr>\n",
              "  <th>kFIP</th>     <td>    2.5104</td> <td>    2.570</td> <td>    0.977</td> <td> 0.331</td> <td>   -2.594</td> <td>    7.615</td>\n",
              "</tr>\n",
              "<tr>\n",
              "  <th>경기</th>       <td>   -0.0787</td> <td>    0.095</td> <td>   -0.824</td> <td> 0.412</td> <td>   -0.268</td> <td>    0.111</td>\n",
              "</tr>\n",
              "<tr>\n",
              "  <th>두산</th>       <td>   -0.0298</td> <td>    0.084</td> <td>   -0.356</td> <td> 0.723</td> <td>   -0.196</td> <td>    0.136</td>\n",
              "</tr>\n",
              "<tr>\n",
              "  <th>롯데</th>       <td>    0.0136</td> <td>    0.083</td> <td>    0.164</td> <td> 0.870</td> <td>   -0.151</td> <td>    0.178</td>\n",
              "</tr>\n",
              "<tr>\n",
              "  <th>볼넷/9</th>     <td>    0.2460</td> <td>    0.203</td> <td>    1.213</td> <td> 0.228</td> <td>   -0.157</td> <td>    0.649</td>\n",
              "</tr>\n",
              "<tr>\n",
              "  <th>블론</th>       <td>    0.0411</td> <td>    0.040</td> <td>    1.023</td> <td> 0.309</td> <td>   -0.039</td> <td>    0.121</td>\n",
              "</tr>\n",
              "<tr>\n",
              "  <th>삼성</th>       <td>   -0.0918</td> <td>    0.080</td> <td>   -1.144</td> <td> 0.256</td> <td>   -0.251</td> <td>    0.068</td>\n",
              "</tr>\n",
              "<tr>\n",
              "  <th>삼진/9</th>     <td>    0.1744</td> <td>    0.235</td> <td>    0.741</td> <td> 0.461</td> <td>   -0.293</td> <td>    0.642</td>\n",
              "</tr>\n",
              "<tr>\n",
              "  <th>선발</th>       <td>   -0.1550</td> <td>    0.177</td> <td>   -0.874</td> <td> 0.384</td> <td>   -0.507</td> <td>    0.197</td>\n",
              "</tr>\n",
              "<tr>\n",
              "  <th>세</th>        <td>   -0.0081</td> <td>    0.042</td> <td>   -0.194</td> <td> 0.847</td> <td>   -0.091</td> <td>    0.075</td>\n",
              "</tr>\n",
              "<tr>\n",
              "  <th>승</th>        <td>    0.0076</td> <td>    0.072</td> <td>    0.107</td> <td> 0.915</td> <td>   -0.135</td> <td>    0.150</td>\n",
              "</tr>\n",
              "<tr>\n",
              "  <th>연봉(2017)</th> <td>    0.6183</td> <td>    0.041</td> <td>   15.055</td> <td> 0.000</td> <td>    0.537</td> <td>    0.700</td>\n",
              "</tr>\n",
              "<tr>\n",
              "  <th>이닝</th>       <td>    0.0276</td> <td>    0.214</td> <td>    0.129</td> <td> 0.898</td> <td>   -0.398</td> <td>    0.453</td>\n",
              "</tr>\n",
              "<tr>\n",
              "  <th>패</th>        <td>    0.0421</td> <td>    0.063</td> <td>    0.672</td> <td> 0.503</td> <td>   -0.082</td> <td>    0.166</td>\n",
              "</tr>\n",
              "<tr>\n",
              "  <th>한화</th>       <td>    0.1159</td> <td>    0.071</td> <td>    1.641</td> <td> 0.104</td> <td>   -0.024</td> <td>    0.256</td>\n",
              "</tr>\n",
              "<tr>\n",
              "  <th>홀드</th>       <td>   -0.0302</td> <td>    0.053</td> <td>   -0.571</td> <td> 0.569</td> <td>   -0.135</td> <td>    0.075</td>\n",
              "</tr>\n",
              "<tr>\n",
              "  <th>홈런/9</th>     <td>    0.5864</td> <td>    0.542</td> <td>    1.082</td> <td> 0.282</td> <td>   -0.490</td> <td>    1.663</td>\n",
              "</tr>\n",
              "</table>\n",
              "<table class=\"simpletable\">\n",
              "<tr>\n",
              "  <th>Omnibus:</th>       <td>28.069</td> <th>  Durbin-Watson:     </th> <td>   2.025</td>\n",
              "</tr>\n",
              "<tr>\n",
              "  <th>Prob(Omnibus):</th> <td> 0.000</td> <th>  Jarque-Bera (JB):  </th> <td> 194.274</td>\n",
              "</tr>\n",
              "<tr>\n",
              "  <th>Skew:</th>          <td>-0.405</td> <th>  Prob(JB):          </th> <td>6.52e-43</td>\n",
              "</tr>\n",
              "<tr>\n",
              "  <th>Kurtosis:</th>      <td> 9.155</td> <th>  Cond. No.          </th> <td>3.77e+16</td>\n",
              "</tr>\n",
              "</table><br/><br/>Warnings:<br/>[1] Standard Errors assume that the covariance matrix of the errors is correctly specified.<br/>[2] The smallest eigenvalue is 5.6e-31. This might indicate that there are<br/>strong multicollinearity problems or that the design matrix is singular."
            ],
            "text/plain": [
              "<class 'statsmodels.iolib.summary.Summary'>\n",
              "\"\"\"\n",
              "                            OLS Regression Results                            \n",
              "==============================================================================\n",
              "Dep. Variable:                      y   R-squared:                       0.928\n",
              "Model:                            OLS   Adj. R-squared:                  0.907\n",
              "Method:                 Least Squares   F-statistic:                     44.19\n",
              "Date:                Tue, 06 Oct 2020   Prob (F-statistic):           7.70e-42\n",
              "Time:                        08:15:49   Log-Likelihood:                 3.3433\n",
              "No. Observations:                 121   AIC:                             49.31\n",
              "Df Residuals:                      93   BIC:                             127.6\n",
              "Df Model:                          27                                         \n",
              "Covariance Type:            nonrobust                                         \n",
              "==============================================================================\n",
              "                 coef    std err          t      P>|t|      [0.025      0.975]\n",
              "------------------------------------------------------------------------------\n",
              "const         -0.0085      0.023     -0.376      0.708      -0.053       0.036\n",
              "BABIP         -0.0479      0.042     -1.145      0.255      -0.131       0.035\n",
              "ERA           -0.0135      0.075     -0.179      0.858      -0.163       0.136\n",
              "FIP           -3.0425      3.048     -0.998      0.321      -9.094       3.009\n",
              "KIA           -0.0514      0.072     -0.716      0.476      -0.194       0.091\n",
              "KT             0.0499      0.069      0.723      0.471      -0.087       0.187\n",
              "LG            -0.0251      0.078     -0.323      0.747      -0.179       0.129\n",
              "LOB%          -0.0445      0.051     -0.879      0.382      -0.145       0.056\n",
              "NC            -0.0179      0.086     -0.208      0.836      -0.189       0.153\n",
              "RA9-WAR        0.1280      0.095      1.351      0.180      -0.060       0.316\n",
              "SK             0.0281      0.073      0.387      0.699      -0.116       0.172\n",
              "WAR            0.3320      0.082      4.057      0.000       0.169       0.495\n",
              "kFIP           2.5104      2.570      0.977      0.331      -2.594       7.615\n",
              "경기            -0.0787      0.095     -0.824      0.412      -0.268       0.111\n",
              "두산            -0.0298      0.084     -0.356      0.723      -0.196       0.136\n",
              "롯데             0.0136      0.083      0.164      0.870      -0.151       0.178\n",
              "볼넷/9           0.2460      0.203      1.213      0.228      -0.157       0.649\n",
              "블론             0.0411      0.040      1.023      0.309      -0.039       0.121\n",
              "삼성            -0.0918      0.080     -1.144      0.256      -0.251       0.068\n",
              "삼진/9           0.1744      0.235      0.741      0.461      -0.293       0.642\n",
              "선발            -0.1550      0.177     -0.874      0.384      -0.507       0.197\n",
              "세             -0.0081      0.042     -0.194      0.847      -0.091       0.075\n",
              "승              0.0076      0.072      0.107      0.915      -0.135       0.150\n",
              "연봉(2017)       0.6183      0.041     15.055      0.000       0.537       0.700\n",
              "이닝             0.0276      0.214      0.129      0.898      -0.398       0.453\n",
              "패              0.0421      0.063      0.672      0.503      -0.082       0.166\n",
              "한화             0.1159      0.071      1.641      0.104      -0.024       0.256\n",
              "홀드            -0.0302      0.053     -0.571      0.569      -0.135       0.075\n",
              "홈런/9           0.5864      0.542      1.082      0.282      -0.490       1.663\n",
              "==============================================================================\n",
              "Omnibus:                       28.069   Durbin-Watson:                   2.025\n",
              "Prob(Omnibus):                  0.000   Jarque-Bera (JB):              194.274\n",
              "Skew:                          -0.405   Prob(JB):                     6.52e-43\n",
              "Kurtosis:                       9.155   Cond. No.                     3.77e+16\n",
              "==============================================================================\n",
              "\n",
              "Warnings:\n",
              "[1] Standard Errors assume that the covariance matrix of the errors is correctly specified.\n",
              "[2] The smallest eigenvalue is 5.6e-31. This might indicate that there are\n",
              "strong multicollinearity problems or that the design matrix is singular.\n",
              "\"\"\""
            ]
          },
          "metadata": {
            "tags": []
          },
          "execution_count": 19
        }
      ]
    },
    {
      "cell_type": "code",
      "metadata": {
        "id": "qUH1miMJ8Fji"
      },
      "source": [
        ""
      ],
      "execution_count": null,
      "outputs": []
    }
  ]
}